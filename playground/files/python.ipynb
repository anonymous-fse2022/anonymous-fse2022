{
  "metadata": {
    "language_info": {
      "codemirror_mode": {
        "name": "python",
        "version": 3
      },
      "file_extension": ".py",
      "mimetype": "text/x-python",
      "name": "python",
      "nbconvert_exporter": "python",
      "pygments_lexer": "ipython3",
      "version": "3.8"
    },
    "kernelspec": {
      "name": "python",
      "display_name": "Pyolite",
      "language": "python"
    }
  },
  "nbformat_minor": 4,
  "nbformat": 4,
  "cells": [
    {
      "cell_type": "markdown",
      "source": "# In-Browser Decoder Playground",
      "metadata": {}
    },
    {
      "cell_type": "markdown",
      "source": "This environment is hosted completely in the browser, and can be used to experiment with the _decoder_ implementation. First, we import `random` and provide a deterministic seed.",
      "metadata": {}
    },
    {
      "cell_type": "code",
      "source": "import random\nrandom.seed(0)",
      "metadata": {
        "trusted": true
      },
      "execution_count": null,
      "outputs": []
    },
    {
      "cell_type": "markdown",
      "source": "## Status\n\nWe start by providing the status codes that we use in decoder. These are _complete_, _incomplete_, and _incorrect_.",
      "metadata": {}
    },
    {
      "cell_type": "code",
      "source": "import enum",
      "metadata": {
        "trusted": true
      },
      "execution_count": null,
      "outputs": []
    },
    {
      "cell_type": "code",
      "source": "class Status(enum.Enum):\n    Complete = 0\n    Incomplete = 1\n    Incorrect = -1",
      "metadata": {
        "trusted": true
      },
      "execution_count": null,
      "outputs": []
    },
    {
      "cell_type": "markdown",
      "source": "## Alphabets\nOur algorithm relies on iterating through all possible alphabets of the language; For convenience, we define it as the *printable* subset of ASCII letters.",
      "metadata": {}
    },
    {
      "cell_type": "code",
      "source": "import string\nSET_OF_BYTES = {c for c in string.printable}",
      "metadata": {
        "trusted": true
      },
      "execution_count": null,
      "outputs": []
    },
    {
      "cell_type": "code",
      "source": "def new_byte(choices):\n    v = random.choice(choices)\n    return v",
      "metadata": {
        "trusted": true
      },
      "execution_count": null,
      "outputs": []
    },
    {
      "cell_type": "markdown",
      "source": "## Logger\n\nWe provide a simple logger.",
      "metadata": {}
    },
    {
      "cell_type": "code",
      "source": "import sys",
      "metadata": {
        "trusted": true
      },
      "execution_count": null,
      "outputs": []
    },
    {
      "cell_type": "code",
      "source": "def logit(*v):\n    print(*v, file=sys.stderr)\n    return",
      "metadata": {
        "trusted": true
      },
      "execution_count": null,
      "outputs": []
    },
    {
      "cell_type": "markdown",
      "source": "## Limits\n\nWe define a few limits to the algorithm. In particular, we do not go beyond `ITERATION_LIMIT` and we stop and discard the input if the input crosses `INPUT_LIMIT` without returning *complete*.",
      "metadata": {}
    },
    {
      "cell_type": "code",
      "source": "ITERATION_LIMIT=10000\nINPUT_LIMIT=1000",
      "metadata": {
        "trusted": true
      },
      "execution_count": null,
      "outputs": []
    },
    {
      "cell_type": "code",
      "source": "import itertools",
      "metadata": {
        "trusted": true
      },
      "execution_count": null,
      "outputs": []
    },
    {
      "cell_type": "markdown",
      "source": "## Exceptions\nWe need a few exceptions first.",
      "metadata": {}
    },
    {
      "cell_type": "code",
      "source": "class NeedMoreException(Exception): ...\nclass InvalidValueException(Exception): ...\nclass InputLimitException(Exception): ...\nclass IterationLimitException(Exception): ...\nclass BacktrackLimitException(Exception): ...",
      "metadata": {
        "trusted": true
      },
      "execution_count": null,
      "outputs": []
    },
    {
      "cell_type": "markdown",
      "source": "## The Decoder\n\n### Choices\n\nNormally, alphabets are sufficient as concat units for checking validity of prefixes. But sometimes, you need to produce longer concate units.",
      "metadata": {
        "tags": []
      }
    },
    {
      "cell_type": "code",
      "source": "def till_n_length_choices(my_choices, rs):\n    all_choices = []\n    for r in range(1, rs+1):\n        v = [''.join(i) for i in itertools.product(my_choices, repeat=r)]\n        random.shuffle(v)\n        all_choices.extend(v)\n    return all_choices",
      "metadata": {
        "trusted": true
      },
      "execution_count": null,
      "outputs": []
    },
    {
      "cell_type": "code",
      "source": "till_n_length_choices(string.digits, 1)",
      "metadata": {
        "trusted": true
      },
      "execution_count": null,
      "outputs": []
    },
    {
      "cell_type": "code",
      "source": "till_n_length_choices(string.digits, 2)",
      "metadata": {
        "trusted": true
      },
      "execution_count": null,
      "outputs": []
    },
    {
      "cell_type": "markdown",
      "source": "### Backtracking\n\nSometimes you have to backtrack.",
      "metadata": {}
    },
    {
      "cell_type": "code",
      "source": "def backtrack(prev_bytes, all_choices, seen_at):\n    if not prev_bytes:\n        raise BacktrackLimitException('Cant backtrack beyond zero index')\n    # backtrack one byte\n    seen = seen_at[len(prev_bytes)-1]\n    seen_at.pop()\n    last_byte = prev_bytes[-1]\n    logit('backtracking %d %s' % (len(prev_bytes), last_byte))\n    #assert (last_byte,) in seen\n    prev_bytes = prev_bytes[:-1]\n    choices = [i for i in all_choices if i not in seen]\n    if not choices:\n        return backtrack(prev_bytes, all_choices, seen_at)\n    return seen, prev_bytes, choices",
      "metadata": {
        "trusted": true
      },
      "execution_count": null,
      "outputs": []
    },
    {
      "cell_type": "markdown",
      "source": "### The Decoder algorithm",
      "metadata": {}
    },
    {
      "cell_type": "code",
      "source": "def generate(validate, prev_bytes=None):\n    seen_at = []\n    all_choices = SET_OF_BYTES\n    if prev_bytes is None: prev_bytes = ''\n    seen = set()\n    iter_limit = ITERATION_LIMIT\n    while iter_limit:\n        if len(prev_bytes) > INPUT_LIMIT:\n            raise InputLimitException('Exhausted %d bytes' % INPUT_LIMIT)\n        iter_limit -= 1\n        choices = [i for i in all_choices if i not in seen]\n        if not choices:\n            seen, prev_bytes, choices = backtrack(prev_bytes, all_choices, seen_at)\n\n        byte = new_byte(choices)\n        cur_bytes = prev_bytes + byte\n        l_cur_bytes = len(cur_bytes)\n\n        logit('%s %s' % (cur_bytes, len(cur_bytes)))\n\n        rv, n,s = validate(cur_bytes)\n        if rv == Status.Complete:\n            return cur_bytes\n        elif rv == Status.Incomplete:\n            seen.add(byte)  # dont explore this byte again\n            prev_bytes = cur_bytes\n            seen_at.append(seen)\n            seen = set()\n\n            # reset this if it was modified by incorrect\n            all_choices = SET_OF_BYTES\n        elif rv == Status.Incorrect:\n            if n is None or n == -1:\n                seen.add(byte)\n                continue\n            else:\n                logit(\"-%s %s\" % (len(choices), len(seen)))\n                if n < len(seen_at):\n                    seen = seen_at[n]\n                    seen_at = seen_at[:n]\n                seen.add(byte)\n                rs = len(cur_bytes) - n\n                all_choices = till_n_length_choices(SET_OF_BYTES, min(rs, 2))\n                prev_bytes = prev_bytes[:n]\n        else:\n            raise Exception(rv)\n    raise IterationLimitException('Exhausted %d loops' % ITERATION_LIMIT)\n",
      "metadata": {
        "trusted": true
      },
      "execution_count": null,
      "outputs": []
    },
    {
      "cell_type": "markdown",
      "source": "## Example Hello",
      "metadata": {}
    },
    {
      "cell_type": "code",
      "source": "def validate_hello(inputstr):\n    try:\n        if inputstr[0] != 'H':\n            return Status.Incorrect, None, ''\n        if inputstr[1] != 'E':\n            return Status.Incorrect, None, ''\n        if inputstr[2] != 'L':\n            return Status.Incorrect, None, ''\n        if inputstr[3] != 'L':\n            return Status.Incorrect, None, ''\n        if inputstr[4] != 'O':\n            return Status.Incorrect, None, ''\n        return Status.Complete, None, ''\n    except IndexError:\n        return Status.Incomplete, None, ''",
      "metadata": {
        "trusted": true
      },
      "execution_count": null,
      "outputs": []
    },
    {
      "cell_type": "code",
      "source": "generate(validate_hello)",
      "metadata": {
        "trusted": true
      },
      "execution_count": null,
      "outputs": []
    },
    {
      "cell_type": "markdown",
      "source": "## Example Paren",
      "metadata": {}
    },
    {
      "cell_type": "code",
      "source": "def parens(xs):\n    stack = [[]]\n    while True:\n        x, xs = xs[0], xs[1:]\n        if x == '(':\n            stack[-1].append([])\n            stack.append(stack[-1][-1])\n        elif x == ')':\n            stack.pop()\n            if not stack:\n                raise Exception('error: opening bracket is missing')\n                #raise ValueError('error: opening bracket is missing')\n        elif x in '01':\n            stack[-1].append(x)\n        else:\n            raise Exception('error: Only binary numbers')\n        if xs == '':\n            break\n    if len(stack) > 1:\n        raise Exception('incomplete: closing bracket is missing')\n        #raise ValueError('error: closing bracket is missing')\n    return stack.pop()",
      "metadata": {
        "trusted": true
      },
      "execution_count": null,
      "outputs": []
    },
    {
      "cell_type": "code",
      "source": "def validate_parens(input_str):\n    try:\n        parens(input_str)\n        return Status.Complete,-1,\"\"\n    except Exception as e:\n        msg = str(e)\n        if msg.startswith(\"incomplete:\"):\n            n = len(msg)\n            return Status.Incomplete, None, \"\"\n        elif msg.startswith(\"error\"):\n            return Status.Incorrect,None, input_str[-1]\n        else:\n            raise e",
      "metadata": {
        "trusted": true
      },
      "execution_count": null,
      "outputs": []
    },
    {
      "cell_type": "code",
      "source": "generate(validate_parens)",
      "metadata": {
        "trusted": true
      },
      "execution_count": null,
      "outputs": []
    },
    {
      "cell_type": "markdown",
      "source": "## Example JSON",
      "metadata": {
        "tags": []
      }
    },
    {
      "cell_type": "code",
      "source": "import json",
      "metadata": {
        "trusted": true
      },
      "execution_count": null,
      "outputs": []
    },
    {
      "cell_type": "code",
      "source": "JSON_TOKENS = ['true', 'false', 'null']",
      "metadata": {
        "trusted": true
      },
      "execution_count": null,
      "outputs": []
    },
    {
      "cell_type": "code",
      "source": "PREFIX = {}\nfor token in JSON_TOKENS:\n    PREFIX[token] = [token[0:i+1] for i in range(len(token)-1)]",
      "metadata": {
        "trusted": true
      },
      "execution_count": null,
      "outputs": []
    },
    {
      "cell_type": "code",
      "source": "PREFIX",
      "metadata": {
        "trusted": true
      },
      "execution_count": null,
      "outputs": []
    },
    {
      "cell_type": "code",
      "source": "def it_fits(input_str):\n    try:\n        json.loads(input_str)\n        logit('*', repr(input_str))\n        return True\n    except Exception as e:\n        msg = str(e)\n        if msg.startswith('Expecting'):\n            # Expecting value: line 1 column 4 (char 3)\n            n = int(msg.rstrip(')').split()[-1])\n            if n >= len(input_str):\n                logit('+', repr(input_str))\n                return True\n        return False",
      "metadata": {
        "trusted": true
      },
      "execution_count": null,
      "outputs": []
    },
    {
      "cell_type": "code",
      "source": "def validate_json(input_str):\n    try:\n        json.loads(input_str)\n        logit('*', repr(input_str))\n        return Status.Complete, -1, ''\n    except Exception as e:\n        msg = str(e)\n        if msg.startswith('Expecting'):\n            # Expecting value: line 1 column 4 (char 3)\n            n = int(msg.rstrip(')').split()[-1])\n            # If the error is 'outside' the string, it can still be valid\n            if n >= len(input_str):\n                logit('+', repr(input_str))\n                return Status.Incomplete, n, ''\n            elif len(input_str) > 1 and input_str[-1] == '.' and input_str[-2].isdigit():\n                # JSON returns incorrect for [3. rather than incomplete.\n                return Status.Incomplete, n, ''\n            else:\n                logit('X', repr(input_str))\n                remaining = input_str[n:]\n                for word in JSON_TOKENS:\n                    if remaining in PREFIX[word]:\n                        # check if it fits first.\n                        if it_fits(input_str[:n] + word):\n                            return Status.Incomplete, n, input_str[n]\n                    return Status.Incorrect, None, input_str[n]\n                return Status.Incorrect, None, input_str[n]\n        elif msg.startswith('Unterminated'):\n            # Unterminated string starting at: line 1 column 1 (char 0)\n            n = int(msg.rstrip(')').split()[-1])\n            if n >= len(input_str):\n                logit('+', repr(input_str))\n                return Status.Incomplete, n, ''\n            else:\n                logit('+', repr(input_str))\n                return Status.Incomplete, n, input_str[n]\n        elif msg.startswith('Extra data'):\n            n = int(msg.rstrip(')').split()[-1])\n            if n >= len(input_str):\n                logit('X', repr(input_str))\n                return Status.Incorrect, None, ''\n            else:\n                logit('X', repr(input_str))\n                return Status.Incorrect, None, input_str[n]\n        elif msg.startswith('Invalid '):\n            idx = msg.find('(char ')\n            eidx = msg.find(')')\n            s = msg[idx + 6:eidx]\n            n = int(s)\n            logit('X', repr(input_str))\n            return Status.Incorrect, None, input_str[n]\n        else:\n            raise e",
      "metadata": {
        "trusted": true
      },
      "execution_count": null,
      "outputs": []
    },
    {
      "cell_type": "code",
      "source": "(js_ex := generate(validate_json))",
      "metadata": {
        "trusted": true
      },
      "execution_count": null,
      "outputs": []
    },
    {
      "cell_type": "code",
      "source": "print(json.dumps(json.loads(js_ex), indent=4))",
      "metadata": {
        "trusted": true
      },
      "execution_count": null,
      "outputs": []
    },
    {
      "cell_type": "markdown",
      "source": "## Example Imprecise Hello",
      "metadata": {}
    },
    {
      "cell_type": "code",
      "source": "def validate_bthello(inputstr):\n    try:\n        if inputstr[0] != 'H':\n            return Status.Incorrect, 0, ''\n        if inputstr[1] != 'E':                                                   \n            return Status.Incorrect, 1, ''\n        if inputstr[2] != 'L':\n            return Status.Incorrect, 2, ''\n        v = inputstr[3:5]\n        if len(v) != 2: raise IndexError\n        if v != 'LO':\n            return Status.Incorrect, 3, ''\n        return Status.Complete, None, ''\n    except IndexError:\n        return Status.Incomplete, len(inputstr), ''",
      "metadata": {
        "trusted": true
      },
      "execution_count": null,
      "outputs": []
    },
    {
      "cell_type": "code",
      "source": "SET_OF_BYTES = {c for c in string.ascii_uppercase}",
      "metadata": {
        "trusted": true
      },
      "execution_count": null,
      "outputs": []
    },
    {
      "cell_type": "code",
      "source": "generate(validate_bthello)",
      "metadata": {
        "tags": [],
        "trusted": true
      },
      "execution_count": null,
      "outputs": []
    },
    {
      "cell_type": "code",
      "source": "",
      "metadata": {},
      "execution_count": null,
      "outputs": []
    }
  ]
}