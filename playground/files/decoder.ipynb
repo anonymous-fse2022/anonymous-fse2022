{
  "metadata": {
    "language_info": {
      "codemirror_mode": {
        "name": "python",
        "version": 3
      },
      "file_extension": ".py",
      "mimetype": "text/x-python",
      "name": "python",
      "nbconvert_exporter": "python",
      "pygments_lexer": "ipython3",
      "version": "3.8"
    },
    "kernelspec": {
      "name": "python",
      "display_name": "Pyolite",
      "language": "python"
    }
  },
  "nbformat_minor": 4,
  "nbformat": 4,
  "cells": [
    {
      "cell_type": "markdown",
      "source": "# In-Browser Decoder Playground",
      "metadata": {}
    },
    {
      "cell_type": "markdown",
      "source": "This environment is hosted completely in the browser, and can be used to experiment with the _decoder_ implementation. Note that many of these programs will fail to terminate in the alloted limits of iteration, input etc. These are expected (especially given WASM+Python which introduces a few orders of magnitude performance hit). We need much less than 1% of these to complete to generate reasonable inputs.",
      "metadata": {}
    },
    {
      "cell_type": "code",
      "source": "import random",
      "metadata": {
        "trusted": true
      },
      "execution_count": 1,
      "outputs": []
    },
    {
      "cell_type": "markdown",
      "source": "## Status\n\nWe start by providing the status codes that we use in decoder. These are _complete_, _incomplete_, and _incorrect_.",
      "metadata": {}
    },
    {
      "cell_type": "code",
      "source": "import enum",
      "metadata": {
        "trusted": true
      },
      "execution_count": 2,
      "outputs": []
    },
    {
      "cell_type": "code",
      "source": "class Status(enum.Enum):\n    Complete = 0\n    Incomplete = 1\n    Incorrect = -1",
      "metadata": {
        "trusted": true
      },
      "execution_count": 3,
      "outputs": []
    },
    {
      "cell_type": "markdown",
      "source": "## Alphabets\nOur algorithm relies on iterating through all possible alphabets of the language; For convenience, we define it as the *printable* subset of ASCII letters.",
      "metadata": {}
    },
    {
      "cell_type": "code",
      "source": "import string\nSET_OF_BYTES = {c for c in string.printable}",
      "metadata": {
        "trusted": true
      },
      "execution_count": 4,
      "outputs": []
    },
    {
      "cell_type": "code",
      "source": "def new_byte(choices):\n    v = random.choice(choices)\n    return v",
      "metadata": {
        "trusted": true
      },
      "execution_count": 5,
      "outputs": []
    },
    {
      "cell_type": "markdown",
      "source": "## Logger\n\nWe provide a simple logger.",
      "metadata": {}
    },
    {
      "cell_type": "code",
      "source": "import sys",
      "metadata": {
        "trusted": true
      },
      "execution_count": 6,
      "outputs": []
    },
    {
      "cell_type": "code",
      "source": "def logit(*v):\n    print(*v, file=sys.stderr)\n    return",
      "metadata": {
        "trusted": true
      },
      "execution_count": 7,
      "outputs": []
    },
    {
      "cell_type": "markdown",
      "source": "## Limits\n\nWe define a few limits to the algorithm. In particular, we do not go beyond `ITERATION_LIMIT` and we stop and discard the input if the input crosses `INPUT_LIMIT` without returning *complete*.",
      "metadata": {}
    },
    {
      "cell_type": "code",
      "source": "ITERATION_LIMIT=1000\nINPUT_LIMIT=100",
      "metadata": {
        "trusted": true
      },
      "execution_count": 8,
      "outputs": []
    },
    {
      "cell_type": "code",
      "source": "import itertools",
      "metadata": {
        "trusted": true
      },
      "execution_count": 9,
      "outputs": []
    },
    {
      "cell_type": "markdown",
      "source": "## Exceptions\nWe need a few exceptions first.",
      "metadata": {}
    },
    {
      "cell_type": "code",
      "source": "class NeedMoreException(Exception): ...\nclass InvalidValueException(Exception): ...\nclass InputLimitException(Exception): ...\nclass IterationLimitException(Exception): ...\nclass BacktrackLimitException(Exception): ...",
      "metadata": {
        "trusted": true
      },
      "execution_count": 10,
      "outputs": []
    },
    {
      "cell_type": "markdown",
      "source": "## The Decoder\n\n### Choices\n\nNormally, alphabets are sufficient as concat units for checking validity of prefixes. But sometimes, you need to produce longer concate units.",
      "metadata": {
        "tags": []
      }
    },
    {
      "cell_type": "code",
      "source": "def till_n_length_choices(my_choices, rs):\n    all_choices = []\n    for r in range(1, rs+1):\n        v = [''.join(i) for i in itertools.product(my_choices, repeat=r)]\n        random.shuffle(v)\n        all_choices.extend(v)\n    return all_choices",
      "metadata": {
        "trusted": true
      },
      "execution_count": 11,
      "outputs": []
    },
    {
      "cell_type": "code",
      "source": "till_n_length_choices(string.digits, 1)",
      "metadata": {
        "trusted": true
      },
      "execution_count": 12,
      "outputs": [
        {
          "execution_count": 12,
          "output_type": "execute_result",
          "data": {
            "text/plain": "['7', '9', '6', '3', '5', '4', '8', '0', '1', '2']"
          },
          "metadata": {}
        }
      ]
    },
    {
      "cell_type": "code",
      "source": "till_n_length_choices(string.digits, 2)",
      "metadata": {
        "trusted": true
      },
      "execution_count": 13,
      "outputs": [
        {
          "execution_count": 13,
          "output_type": "execute_result",
          "data": {
            "text/plain": "['8',\n '2',\n '4',\n '3',\n '6',\n '5',\n '7',\n '0',\n '1',\n '9',\n '37',\n '51',\n '43',\n '73',\n '45',\n '66',\n '26',\n '77',\n '89',\n '64',\n '48',\n '78',\n '35',\n '83',\n '87',\n '53',\n '59',\n '13',\n '47',\n '69',\n '98',\n '81',\n '75',\n '91',\n '36',\n '62',\n '86',\n '15',\n '23',\n '40',\n '70',\n '55',\n '44',\n '67',\n '61',\n '90',\n '84',\n '68',\n '29',\n '76',\n '10',\n '54',\n '63',\n '11',\n '65',\n '82',\n '56',\n '03',\n '18',\n '32',\n '88',\n '57',\n '99',\n '21',\n '31',\n '96',\n '07',\n '12',\n '33',\n '42',\n '16',\n '92',\n '46',\n '58',\n '04',\n '52',\n '97',\n '41',\n '85',\n '19',\n '17',\n '50',\n '79',\n '28',\n '38',\n '27',\n '80',\n '71',\n '25',\n '05',\n '39',\n '01',\n '95',\n '00',\n '14',\n '94',\n '30',\n '20',\n '34',\n '02',\n '49',\n '08',\n '60',\n '93',\n '72',\n '24',\n '06',\n '22',\n '74',\n '09']"
          },
          "metadata": {}
        }
      ]
    },
    {
      "cell_type": "markdown",
      "source": "### Backtracking\n\nSometimes you have to backtrack.",
      "metadata": {}
    },
    {
      "cell_type": "code",
      "source": "def backtrack(prev_bytes, all_choices, seen_at):\n    if not prev_bytes:\n        raise BacktrackLimitException('Cant backtrack beyond zero index')\n    # backtrack one byte\n    seen = seen_at[len(prev_bytes)-1]\n    seen_at.pop()\n    last_byte = prev_bytes[-1]\n    logit('backtracking %d %s' % (len(prev_bytes), last_byte))\n    #assert (last_byte,) in seen\n    prev_bytes = prev_bytes[:-1]\n    choices = [i for i in all_choices if i not in seen]\n    if not choices:\n        return backtrack(prev_bytes, all_choices, seen_at)\n    return seen, prev_bytes, choices",
      "metadata": {
        "trusted": true
      },
      "execution_count": 14,
      "outputs": []
    },
    {
      "cell_type": "markdown",
      "source": "### The Decoder algorithm",
      "metadata": {}
    },
    {
      "cell_type": "code",
      "source": "def generate(validate, prev_bytes=None, tokens=set()):\n    seen_at = []\n    alphabet = SET_OF_BYTES | tokens\n    all_choices = alphabet\n    if prev_bytes is None: prev_bytes = ''\n    seen = set()\n    iter_limit = ITERATION_LIMIT\n    while iter_limit:\n        if len(prev_bytes) > INPUT_LIMIT:\n            raise InputLimitException('Exhausted %d bytes' % INPUT_LIMIT)\n        iter_limit -= 1\n        choices = [i for i in all_choices if i not in seen]\n        if not choices:\n            seen, prev_bytes, choices = backtrack(prev_bytes, all_choices, seen_at)\n\n        byte = new_byte(choices)\n        cur_bytes = prev_bytes + byte\n        l_cur_bytes = len(cur_bytes)\n\n        logit('%s %s' % (repr(cur_bytes), len(cur_bytes)))\n\n        rv, n,s = validate(cur_bytes)\n        if rv == Status.Complete:\n            return cur_bytes\n        elif rv == Status.Incomplete:\n            seen.add(byte)  # dont explore this byte again\n            prev_bytes = cur_bytes\n            seen_at.append(seen)\n            seen = set()\n\n            # reset this if it was modified by incorrect\n            all_choices = list(alphabet)\n        elif rv == Status.Incorrect:\n            if n is None or n == -1:\n                seen.add(byte)\n                continue\n            else:\n                logit(\"-%s %s\" % (len(choices), len(seen)))\n                if n < len(seen_at):\n                    seen = seen_at[n]\n                    seen_at = seen_at[:n]\n                seen.add(byte)\n                rs = len(cur_bytes) - n\n                all_choices = till_n_length_choices(list(alphabet), min(rs, 2))\n                prev_bytes = prev_bytes[:n]\n        else:\n            raise Exception(rv)\n    raise IterationLimitException('Exhausted %d loops' % ITERATION_LIMIT)\n",
      "metadata": {
        "trusted": true
      },
      "execution_count": 15,
      "outputs": []
    },
    {
      "cell_type": "markdown",
      "source": "## Example Hello",
      "metadata": {}
    },
    {
      "cell_type": "code",
      "source": "def conforming_hello(inputstr):\n    try:\n        if inputstr[0] != 'H':\n            return Status.Incorrect, None, ''\n        if inputstr[1] != 'E':\n            return Status.Incorrect, None, ''\n        if inputstr[2] != 'L':\n            return Status.Incorrect, None, ''\n        if inputstr[3] != 'L':\n            return Status.Incorrect, None, ''\n        if inputstr[4] != 'O':\n            return Status.Incorrect, None, ''\n        return Status.Complete, None, ''\n    except IndexError:\n        return Status.Incomplete, None, ''",
      "metadata": {
        "trusted": true
      },
      "execution_count": 16,
      "outputs": []
    },
    {
      "cell_type": "code",
      "source": "generate(conforming_hello)",
      "metadata": {
        "trusted": true
      },
      "execution_count": 17,
      "outputs": [
        {
          "name": "stderr",
          "text": "'n' 1\n'{' 1\n'2' 1\n'h' 1\n'/' 1\n'm' 1\n'%' 1\n'`' 1\n'6' 1\n'<' 1\n'\\x0b' 1\n'P' 1\n'8' 1\n'!' 1\n'.' 1\n'N' 1\n'1' 1\n'v' 1\n'T' 1\n'i' 1\n'\\t' 1\n'p' 1\n'H' 1\n'HW' 2\n'H^' 2\n'HC' 2\n'HS' 2\n'H9' 2\n'H\\x0b' 2\n'H!' 2\n'Hi' 2\n'H2' 2\n'HN' 2\n'H\\n' 2\n'HE' 2\n'HE2' 3\n'HE ' 3\n\"HE'\" 3\n'HE5' 3\n'HE\"' 3\n'HEC' 3\n'HEN' 3\n'HEf' 3\n'HEr' 3\n'HE3' 3\n'HEk' 3\n'HED' 3\n'HEu' 3\n'HEb' 3\n'HEW' 3\n'HE\\t' 3\n'HE\\x0b' 3\n'HEd' 3\n'HE`' 3\n'HE+' 3\n'HE{' 3\n'HEI' 3\n'HEn' 3\n'HES' 3\n'HE*' 3\n'HE\\\\' 3\n'HEj' 3\n'HEv' 3\n'HEo' 3\n'HE.' 3\n'HEF' 3\n'HE!' 3\n'HE\\n' 3\n'HEK' 3\n'HE\\r' 3\n'HEz' 3\n'HEi' 3\n'HEp' 3\n'HEH' 3\n'HEM' 3\n'HEt' 3\n'HEx' 3\n'HEB' 3\n'HE#' 3\n'HEh' 3\n'HEY' 3\n'HE8' 3\n'HEq' 3\n'HE1' 3\n'HE}' 3\n'HEO' 3\n'HE(' 3\n'HEe' 3\n'HE>' 3\n'HEg' 3\n'HE\\x0c' 3\n'HEc' 3\n'HEG' 3\n'HEX' 3\n'HE)' 3\n'HE6' 3\n'HE=' 3\n'HEZ' 3\n'HE$' 3\n'HE&' 3\n'HE~' 3\n'HE^' 3\n'HE4' 3\n'HEm' 3\n'HE0' 3\n'HE_' 3\n'HEV' 3\n'HEE' 3\n'HE[' 3\n'HE%' 3\n'HEl' 3\n'HEA' 3\n'HEP' 3\n'HEQ' 3\n'HEa' 3\n'HEL' 3\n'HELy' 4\n'HEL\\\\' 4\n'HELU' 4\n'HELz' 4\n'HEL1' 4\n'HEL|' 4\n'HELi' 4\n'HELG' 4\n'HELK' 4\n'HELS' 4\n'HELW' 4\n'HEL6' 4\n'HELh' 4\n'HEL9' 4\n'HEL}' 4\n'HEL5' 4\n'HEL\\n' 4\n'HEL_' 4\n'HELw' 4\n'HELV' 4\n'HEL\"' 4\n'HELo' 4\n'HELl' 4\n'HEL`' 4\n'HEL@' 4\n'HELa' 4\n'HELk' 4\n'HELT' 4\n'HELn' 4\n'HEL~' 4\n'HELg' 4\n'HELE' 4\n'HELe' 4\n'HELu' 4\n'HELZ' 4\n'HEL>' 4\n'HEL?' 4\n'HELN' 4\n'HELf' 4\n'HEL=' 4\n'HELY' 4\n'HEL/' 4\n'HELd' 4\n'HEL^' 4\n'HEL)' 4\n'HELH' 4\n'HEL;' 4\n'HELJ' 4\n'HEL\\x0c' 4\n'HEL,' 4\n'HELP' 4\n'HELc' 4\n'HEL8' 4\n'HELD' 4\n'HELM' 4\n'HEL\\x0b' 4\n'HELR' 4\n'HEL#' 4\n'HELs' 4\n'HELt' 4\n'HELx' 4\n'HEL&' 4\n'HEL{' 4\n'HEL4' 4\n'HELb' 4\n'HEL(' 4\n'HELO' 4\n'HELj' 4\n'HEL[' 4\n\"HEL'\" 4\n'HEL*' 4\n'HELI' 4\n'HELm' 4\n'HEL7' 4\n'HELF' 4\n'HELL' 4\n'HELL)' 5\n'HELL<' 5\n'HELLb' 5\n'HELLM' 5\n'HELL ' 5\n'HELL@' 5\n'HELL$' 5\n'HELL,' 5\n\"HELL'\" 5\n'HELL_' 5\n'HELLw' 5\n'HELL2' 5\n'HELLe' 5\n'HELL#' 5\n'HELLU' 5\n'HELLo' 5\n'HELLp' 5\n'HELL~' 5\n'HELLk' 5\n'HELL/' 5\n'HELL[' 5\n'HELL\"' 5\n'HELL{' 5\n'HELL^' 5\n'HELL\\t' 5\n'HELLN' 5\n'HELLf' 5\n'HELL&' 5\n'HELLA' 5\n'HELLL' 5\n'HELL-' 5\n'HELLZ' 5\n'HELLm' 5\n'HELL\\x0c' 5\n'HELLF' 5\n'HELL`' 5\n'HELLG' 5\n'HELLC' 5\n'HELLR' 5\n'HELLI' 5\n'HELL+' 5\n'HELLn' 5\n'HELLz' 5\n'HELLQ' 5\n'HELLY' 5\n'HELL\\\\' 5\n'HELLt' 5\n'HELL>' 5\n'HELLy' 5\n'HELL]' 5\n'HELLh' 5\n'HELLs' 5\n'HELLa' 5\n'HELLX' 5\n'HELLj' 5\n'HELLc' 5\n'HELL(' 5\n'HELLr' 5\n'HELL1' 5\n'HELLT' 5\n'HELL*' 5\n'HELLP' 5\n'HELL:' 5\n'HELLO' 5\n",
          "output_type": "stream"
        },
        {
          "execution_count": 17,
          "output_type": "execute_result",
          "data": {
            "text/plain": "'HELLO'"
          },
          "metadata": {}
        }
      ]
    },
    {
      "cell_type": "markdown",
      "source": "## Example Paren",
      "metadata": {}
    },
    {
      "cell_type": "code",
      "source": "def parens(xs):\n    stack = [[]]\n    while True:\n        x, xs = xs[0], xs[1:]\n        if x == '(':\n            stack[-1].append([])\n            stack.append(stack[-1][-1])\n        elif x == ')':\n            stack.pop()\n            if not stack:\n                raise Exception('error: opening bracket is missing')\n                #raise ValueError('error: opening bracket is missing')\n        elif x in '01':\n            stack[-1].append(x)\n        else:\n            raise Exception('error: Only binary numbers')\n        if xs == '':\n            break\n    if len(stack) > 1:\n        raise Exception('incomplete: closing bracket is missing')\n        #raise ValueError('error: closing bracket is missing')\n    return stack.pop()",
      "metadata": {
        "trusted": true
      },
      "execution_count": 18,
      "outputs": []
    },
    {
      "cell_type": "code",
      "source": "def conforming_parens(input_str):\n    try:\n        parens(input_str)\n        return Status.Complete,-1,\"\"\n    except Exception as e:\n        msg = str(e)\n        if msg.startswith(\"incomplete:\"):\n            n = len(msg)\n            return Status.Incomplete, None, \"\"\n        elif msg.startswith(\"error\"):\n            return Status.Incorrect,None, input_str[-1]\n        else:\n            raise e",
      "metadata": {
        "trusted": true
      },
      "execution_count": 19,
      "outputs": []
    },
    {
      "cell_type": "code",
      "source": "generate(conforming_parens)",
      "metadata": {
        "trusted": true
      },
      "execution_count": 20,
      "outputs": [
        {
          "name": "stderr",
          "text": "'J' 1\n']' 1\n'R' 1\n'a' 1\n'+' 1\n'w' 1\n';' 1\n'=' 1\n'C' 1\n'I' 1\n'\\t' 1\n'2' 1\n'\\x0c' 1\n'`' 1\n'Y' 1\n'\"' 1\n'8' 1\n'-' 1\n'!' 1\n'*' 1\n'4' 1\n'r' 1\n'S' 1\n'm' 1\n'b' 1\n'5' 1\n'}' 1\n'F' 1\n'T' 1\n'&' 1\n'p' 1\n'[' 1\n'i' 1\n'k' 1\n'g' 1\n'X' 1\n'j' 1\n'N' 1\n't' 1\n'~' 1\n'?' 1\n'#' 1\n'G' 1\n'\\r' 1\n'D' 1\n'\\n' 1\n'0' 1\n",
          "output_type": "stream"
        },
        {
          "execution_count": 20,
          "output_type": "execute_result",
          "data": {
            "text/plain": "'0'"
          },
          "metadata": {}
        }
      ]
    },
    {
      "cell_type": "markdown",
      "source": "## Example JSON",
      "metadata": {
        "tags": []
      }
    },
    {
      "cell_type": "code",
      "source": "import json",
      "metadata": {
        "trusted": true
      },
      "execution_count": 21,
      "outputs": []
    },
    {
      "cell_type": "code",
      "source": "JSON_TOKENS = ['true', 'false', 'null']",
      "metadata": {
        "trusted": true
      },
      "execution_count": 22,
      "outputs": []
    },
    {
      "cell_type": "code",
      "source": "PREFIX = {}\nfor token in JSON_TOKENS:\n    PREFIX[token] = [token[0:i+1] for i in range(len(token)-1)]",
      "metadata": {
        "trusted": true
      },
      "execution_count": 23,
      "outputs": []
    },
    {
      "cell_type": "code",
      "source": "PREFIX",
      "metadata": {
        "trusted": true
      },
      "execution_count": 24,
      "outputs": [
        {
          "execution_count": 24,
          "output_type": "execute_result",
          "data": {
            "text/plain": "{'true': ['t', 'tr', 'tru'],\n 'false': ['f', 'fa', 'fal', 'fals'],\n 'null': ['n', 'nu', 'nul']}"
          },
          "metadata": {}
        }
      ]
    },
    {
      "cell_type": "code",
      "source": "def it_fits(input_str):\n    try:\n        json.loads(input_str)\n        logit('*', repr(input_str))\n        return True\n    except Exception as e:\n        msg = str(e)\n        if msg.startswith('Expecting'):\n            # Expecting value: line 1 column 4 (char 3)\n            n = int(msg.rstrip(')').split()[-1])\n            if n >= len(input_str):\n                logit('+', repr(input_str))\n                return True\n        return False",
      "metadata": {
        "trusted": true
      },
      "execution_count": 25,
      "outputs": []
    },
    {
      "cell_type": "code",
      "source": "def conforming_json(input_str):\n    try:\n        json.loads(input_str)\n        logit('*', repr(input_str))\n        return Status.Complete, -1, ''\n    except Exception as e:\n        msg = str(e)\n        if msg.startswith('Expecting'):\n            # Expecting value: line 1 column 4 (char 3)\n            n = int(msg.rstrip(')').split()[-1])\n            # If the error is 'outside' the string, it can still be valid\n            if n >= len(input_str):\n                logit('+', repr(input_str))\n                return Status.Incomplete, n, ''\n            elif len(input_str) > 1 and input_str[-1] == '.' and input_str[-2].isdigit():\n                # JSON returns incorrect for [3. rather than incomplete.\n                return Status.Incomplete, n, ''\n            else:\n                logit('X', repr(input_str))\n                remaining = input_str[n:]\n                for word in JSON_TOKENS:\n                    if remaining in PREFIX[word]:\n                        # check if it fits first.\n                        if it_fits(input_str[:n] + word):\n                            return Status.Incomplete, n, input_str[n]\n                    return Status.Incorrect, None, input_str[n]\n                return Status.Incorrect, None, input_str[n]\n        elif msg.startswith('Unterminated'):\n            # Unterminated string starting at: line 1 column 1 (char 0)\n            n = int(msg.rstrip(')').split()[-1])\n            if n >= len(input_str):\n                logit('+', repr(input_str))\n                return Status.Incomplete, n, ''\n            else:\n                logit('+', repr(input_str))\n                return Status.Incomplete, n, input_str[n]\n        elif msg.startswith('Extra data'):\n            n = int(msg.rstrip(')').split()[-1])\n            if n >= len(input_str):\n                logit('X', repr(input_str))\n                return Status.Incorrect, None, ''\n            else:\n                logit('X', repr(input_str))\n                return Status.Incorrect, None, input_str[n]\n        elif msg.startswith('Invalid '):\n            idx = msg.find('(char ')\n            eidx = msg.find(')')\n            s = msg[idx + 6:eidx]\n            n = int(s)\n            logit('X', repr(input_str))\n            return Status.Incorrect, None, input_str[n]\n        else:\n            raise e",
      "metadata": {
        "trusted": true
      },
      "execution_count": 26,
      "outputs": []
    },
    {
      "cell_type": "code",
      "source": "(js_ex := generate(conforming_json))",
      "metadata": {
        "trusted": true
      },
      "execution_count": 27,
      "outputs": [
        {
          "name": "stderr",
          "text": "'X' 1\nX 'X'\n']' 1\nX ']'\n'a' 1\nX 'a'\n'8' 1\n* '8'\n",
          "output_type": "stream"
        },
        {
          "execution_count": 27,
          "output_type": "execute_result",
          "data": {
            "text/plain": "'8'"
          },
          "metadata": {}
        }
      ]
    },
    {
      "cell_type": "code",
      "source": "print(json.dumps(json.loads(js_ex), indent=4))",
      "metadata": {
        "trusted": true
      },
      "execution_count": 28,
      "outputs": [
        {
          "name": "stdout",
          "text": "8\n",
          "output_type": "stream"
        }
      ]
    },
    {
      "cell_type": "markdown",
      "source": "## Example Imprecise Hello",
      "metadata": {}
    },
    {
      "cell_type": "code",
      "source": "def conforming_ihello(inputstr):\n    try:\n        if inputstr[0] != 'H':\n            return Status.Incorrect, 0, ''\n        if inputstr[1] != 'E':                                                   \n            return Status.Incorrect, 1, ''\n        if inputstr[2] != 'L':\n            return Status.Incorrect, 2, ''\n        v = inputstr[3:5]\n        if len(v) != 2: raise IndexError\n        if v != 'LO':\n            return Status.Incorrect, 3, ''\n        return Status.Complete, None, ''\n    except IndexError:\n        return Status.Incomplete, len(inputstr), ''",
      "metadata": {
        "trusted": true
      },
      "execution_count": 29,
      "outputs": []
    },
    {
      "cell_type": "markdown",
      "source": "Unfortunately WASM+Python imposes a really huge overhead. So, we limit our alphabet to have any hope to finish in time.",
      "metadata": {}
    },
    {
      "cell_type": "code",
      "source": "SET_OF_BYTES = {c for c in string.ascii_uppercase}",
      "metadata": {
        "trusted": true
      },
      "execution_count": 30,
      "outputs": []
    },
    {
      "cell_type": "code",
      "source": "generate(conforming_ihello)",
      "metadata": {
        "tags": [],
        "trusted": true
      },
      "execution_count": 31,
      "outputs": [
        {
          "name": "stderr",
          "text": "'Q' 1\n-26 0\n'C' 1\n-25 1\n'K' 1\n-24 2\n'W' 1\n-23 3\n'U' 1\n-22 4\n'V' 1\n-21 5\n'F' 1\n-20 6\n'M' 1\n-19 7\n'S' 1\n-18 8\n'L' 1\n-17 9\n'X' 1\n-16 10\n'J' 1\n-15 11\n'N' 1\n-14 12\n'D' 1\n-13 13\n'T' 1\n-12 14\n'I' 1\n-11 15\n'R' 1\n-10 16\n'Y' 1\n-9 17\n'H' 1\n'HM' 2\n-26 0\n'HV' 2\n-25 1\n'HD' 2\n-24 2\n'HO' 2\n-23 3\n'HU' 2\n-22 4\n'HN' 2\n-21 5\n'HK' 2\n-20 6\n'HY' 2\n-19 7\n'HT' 2\n-18 8\n'HF' 2\n-17 9\n'HR' 2\n-16 10\n'HW' 2\n-15 11\n'HQ' 2\n-14 12\n'HG' 2\n-13 13\n'HH' 2\n-12 14\n'HX' 2\n-11 15\n'HL' 2\n-10 16\n'HP' 2\n-9 17\n'HZ' 2\n-8 18\n'HC' 2\n-7 19\n'HB' 2\n-6 20\n'HA' 2\n-5 21\n'HE' 2\n'HER' 3\n-26 0\n'HEU' 3\n-25 1\n'HEQ' 3\n-24 2\n'HEP' 3\n-23 3\n'HET' 3\n-22 4\n'HEC' 3\n-21 5\n'HES' 3\n-20 6\n'HEV' 3\n-19 7\n'HEI' 3\n-18 8\n'HEN' 3\n-17 9\n'HEL' 3\n'HELV' 4\n'HELVT' 5\n-26 0\n'HELHI' 5\n-700 2\n'HELTA' 5\n-699 3\n'HELKJ' 5\n-698 4\n'HELJF' 5\n-697 5\n'HELOP' 5\n-696 6\n'HELAH' 5\n-695 7\n'HELXY' 5\n-694 8\n'HELPK' 5\n-693 9\n'HELCB' 5\n-692 10\n'HELEX' 5\n-691 11\n'HELGT' 5\n-690 12\n'HELPZ' 5\n-689 13\n'HELIJ' 5\n-688 14\n'HELPQ' 5\n-687 15\n'HELHP' 5\n-686 16\n'HELGX' 5\n-685 17\n'HELDR' 5\n-684 18\n'HELQU' 5\n-683 19\n'HELBX' 5\n-682 20\n'HELNC' 5\n-681 21\n'HELQJ' 5\n-680 22\n'HELYD' 5\n-679 23\n'HELQQ' 5\n-678 24\n'HELC' 4\n'HELCE' 5\n-26 0\n'HELZN' 5\n-675 27\n'HELYI' 5\n-674 28\n'HELZR' 5\n-673 29\n'HELAT' 5\n-672 30\n'HELJG' 5\n-671 31\n'HELSF' 5\n-670 32\n'HELNO' 5\n-669 33\n'HELGZ' 5\n-668 34\n'HELVH' 5\n-667 35\n'HELYR' 5\n-666 36\n'HELMA' 5\n-665 37\n'HELNP' 5\n-664 38\n'HELWP' 5\n-663 39\n'HELG' 4\n'HELGQ' 5\n-26 0\n'HELWV' 5\n-660 42\n'HELLB' 5\n-659 43\n'HELPH' 5\n-658 44\n'HELJZ' 5\n-657 45\n'HELLO' 5\n",
          "output_type": "stream"
        },
        {
          "execution_count": 31,
          "output_type": "execute_result",
          "data": {
            "text/plain": "'HELLO'"
          },
          "metadata": {}
        }
      ]
    },
    {
      "cell_type": "markdown",
      "source": "## Example MathExpr",
      "metadata": {}
    },
    {
      "cell_type": "code",
      "source": "class Parser:\n    def __init__(self, string, vars={}):\n        self.string = string\n        self.index = 0\n        self.vars = {\n            'pi': 3.141592653589793,\n            'e': 2.718281828459045\n        }\n        for var in vars.keys():\n            if self.getVarValue(var) != None:\n                raise Exception(\"Cannot redefine the value of \" + var)\n            self.vars[var] = vars[var]\n\n    def hasVar(self, v):\n        for k in self.vars.keys():\n            if v == k:\n                return True\n        return False\n\n    def getVarValue(self, v, default):\n        if not self.hasVar(v): return default\n        return self.vars[v]\n\n    def getValue(self):\n        value = self.parseExpression()\n        self.skipWhitespace()\n        if self.hasNext():\n            raise Exception(\n                \"Unexpected character found: '\" +\n                self.peek() +\n                \"' at index \" +\n                str(self.index))\n        return value\n\n    def peek(self):\n        return self.string[self.index:self.index + 1]\n\n    def hasNext(self):\n        return self.string[self.index:] != ''\n\n    def skipWhitespace(self):\n        while self.hasNext():\n            if self.peek() in ' \\t\\n\\r':\n                self.index += 1\n            else:\n                return\n\n    def parseExpression(self):\n        return self.parseAddition()\n\n    def parseAddition(self):\n        values = [self.parseMultiplication()]\n        while True:\n            self.skipWhitespace()\n            char = self.peek()\n            if char == '+':\n                self.index += 1\n                values.append(self.parseMultiplication())\n            elif char == '-':\n                self.index += 1\n                values.append(-1 * self.parseMultiplication())\n            else:\n                break\n        return sum(values)\n\n    def parseMultiplication(self):\n        values = [self.parseParenthesis()]\n        while True:\n            self.skipWhitespace()\n            char = self.peek()\n            if char == '*':\n                self.index += 1\n                values.append(self.parseParenthesis())\n            elif char == '/':\n                div_index = self.index\n                self.index += 1\n                denominator = self.parseParenthesis()\n                if denominator == 0:\n                    raise Exception(\n                        \"Division by 0 kills baby whales (occured at index \" +\n                        str(div_index) +\n                        \")\")\n                values.append(1.0 / denominator)\n            else:\n                break\n        value = 1.0\n        for factor in values:\n            value *= factor\n        return value\n\n    def parseParenthesis(self):\n        self.skipWhitespace()\n        char = self.peek()\n        if char == '(':\n            self.index += 1\n            value = self.parseExpression()\n            self.skipWhitespace()\n            c = self.peek()\n            if c and c != ')':\n                raise Exception('Only numbers')\n            if self.peek() != ')':\n                raise Exception(\n                    \"No closing parenthesis found at character \"\n                    + str(self.index))\n            self.index += 1\n            return value\n        else:\n            return self.parseNegative()\n\n    def parseNegative(self):\n        self.skipWhitespace()\n        char = self.peek()\n        if char == '-':\n            self.index += 1\n            return -1 * self.parseParenthesis()\n        else:\n            return self.parseValue()\n\n    def parseValue(self):\n        self.skipWhitespace()\n        char = self.peek()\n        if char in '0123456789.':\n            return self.parseNumber()\n        else:\n            raise Exception('Only numbers')\n            #return self.parseVariable()\n\n    def parseVariable(self):\n        self.skipWhitespace()\n        var = ''\n        while self.hasNext():\n            char = self.peek()\n            if char.lower() in '_abcdefghijklmnopqrstuvwxyz0123456789':\n                var += char\n                self.index += 1\n            else:\n                break\n\n        value = self.getVarValue(var, None)\n        if value == None:\n            raise Exception( \"Unrecognized variable: '\" + var + \"'\")\n        return float(value)\n\n    def parseNumber(self):\n        self.skipWhitespace()\n        strValue = ''\n        decimal_found = False\n        char = None\n\n        while self.hasNext():\n            char = self.peek()\n            if char == '.':\n                if decimal_found:\n                    raise Exception(\n                        \"Found an extra period in a number at character \" +\n                        str(self.index) +\n                        \". Are you European?\")\n                decimal_found = True\n                strValue += '.'\n            elif char in '0123456789':\n                strValue += char\n            else:\n                break\n            self.index += 1\n\n        if len(strValue) == 0:\n            if char == '' or char is None:\n                raise Exception(\"Unexpected end found\")\n            else:\n                raise Exception(\n                    \"I was expecting to find a number at character \" +\n                    str(self.index) +\n                    \" but instead I found a '\" +\n                    str(char) +\n                    \"'. What's up with that?\")\n\n        return float(strValue)",
      "metadata": {
        "trusted": true
      },
      "execution_count": 32,
      "outputs": []
    },
    {
      "cell_type": "code",
      "source": "def conforming_mathexpr(s):\n    try:\n        p = Parser(s)\n        p.getValue()\n        return Status.Complete, None, ''\n    except Exception as e:\n        msg = str(e)\n        if msg.startswith('Unexpected end'):\n            return Status.Incomplete, None, ''\n        if msg.startswith('Unrecognized variable:'):\n            return Status.Incorrect, None, ''\n        if msg.startswith('Unexpected character found'):\n            return Status.Incorrect, None, ''\n        if msg.startswith('Only numbers'):\n            return Status.Incorrect, None, ''\n        if msg.startswith('No closing parenthesis found'):\n            return Status.Incomplete, None, ''\n        if msg.startswith('could not convert string to float:'):\n            # semantics\n            return Status.Complete, None, ''\n        if msg.startswith('Cannot redefine the value of '):\n            # semantics\n            return Status.Complete, None, ''\n        if msg.startswith('Division by 0'):\n            # semantics\n            return Status.Complete, None, ''\n        #print(e)\n        #print(str(e))\n        raise e",
      "metadata": {
        "trusted": true
      },
      "execution_count": 33,
      "outputs": []
    },
    {
      "cell_type": "markdown",
      "source": "We reset the alphabet first.",
      "metadata": {}
    },
    {
      "cell_type": "code",
      "source": "SET_OF_BYTES = {c for c in string.printable}",
      "metadata": {
        "trusted": true
      },
      "execution_count": 34,
      "outputs": []
    },
    {
      "cell_type": "code",
      "source": "(v := generate(conforming_mathexpr))",
      "metadata": {
        "trusted": true
      },
      "execution_count": 35,
      "outputs": [
        {
          "name": "stderr",
          "text": "'`' 1\n'y' 1\n']' 1\n't' 1\n',' 1\n'N' 1\n's' 1\n'!' 1\n'$' 1\n'A' 1\n'b' 1\n'_' 1\n'<' 1\n'\\\\' 1\n'~' 1\n'9' 1\n",
          "output_type": "stream"
        },
        {
          "execution_count": 35,
          "output_type": "execute_result",
          "data": {
            "text/plain": "'9'"
          },
          "metadata": {}
        }
      ]
    },
    {
      "cell_type": "markdown",
      "source": "## PyParsing",
      "metadata": {}
    },
    {
      "cell_type": "code",
      "source": "import pyparsing\nfrom pyparsing import *",
      "metadata": {
        "trusted": true
      },
      "execution_count": 36,
      "outputs": []
    },
    {
      "cell_type": "markdown",
      "source": "Pyparsing can have numerous alternative parses. So, we limit our iteration, so that our browser does not hang.",
      "metadata": {}
    },
    {
      "cell_type": "code",
      "source": "ITERATION_LIMIT=1000",
      "metadata": {
        "trusted": true
      },
      "execution_count": 37,
      "outputs": []
    },
    {
      "cell_type": "code",
      "source": "INPUT_LIMIT=100",
      "metadata": {
        "trusted": true
      },
      "execution_count": 38,
      "outputs": []
    },
    {
      "cell_type": "markdown",
      "source": "With pyparsing, the parser provides the required information directly. We do not have to do much work.",
      "metadata": {}
    },
    {
      "cell_type": "code",
      "source": "def conforming_pyparse(expr, s):\n    try:\n        expr.parseString(s)\n        return Status.Complete, None, ''\n    except ParseException as e:\n        if e.loc < len(s):\n            return Status.Incorrect, None, ''\n        else:\n            return Status.Incomplete, None, ''\n        print(e.pstr)\n        print(e)",
      "metadata": {
        "trusted": true
      },
      "execution_count": 39,
      "outputs": []
    },
    {
      "cell_type": "markdown",
      "source": "Pyparsing returns incorrect result when escape sequences are involved. So, we filter them out",
      "metadata": {}
    },
    {
      "cell_type": "code",
      "source": "aword = Word(alphas) + \"!\"",
      "metadata": {
        "trusted": true
      },
      "execution_count": 40,
      "outputs": []
    },
    {
      "cell_type": "code",
      "source": "for my_string in ['ab', 'a\\tb', 'a\\nb', 'a\\\\b']:\n    try:\n        aword.parseString(my_string)\n    except ParseException as e:\n        print(e.loc, repr(e.pstr))",
      "metadata": {
        "trusted": true
      },
      "execution_count": 41,
      "outputs": [
        {
          "name": "stdout",
          "text": "2 'ab'\n8 'a       b'\n2 'a\\nb'\n1 'a\\\\b'\n",
          "output_type": "stream"
        }
      ]
    },
    {
      "cell_type": "code",
      "source": "SET_OF_BYTES = {c for c in string.printable if c not in \"\\n\\t\\r\\x0b\\x0c\\\\\"}",
      "metadata": {
        "trusted": true
      },
      "execution_count": 62,
      "outputs": []
    },
    {
      "cell_type": "markdown",
      "source": "### Hello World",
      "metadata": {}
    },
    {
      "cell_type": "code",
      "source": "greet = Word(alphas) + \",\" + Word(alphas) + \"!\"",
      "metadata": {
        "trusted": true
      },
      "execution_count": 63,
      "outputs": []
    },
    {
      "cell_type": "code",
      "source": "def conforming_greet(s):\n    return conforming_pyparse(greet, s)",
      "metadata": {
        "trusted": true
      },
      "execution_count": 64,
      "outputs": []
    },
    {
      "cell_type": "code",
      "source": "generate(conforming_greet)",
      "metadata": {
        "trusted": true
      },
      "execution_count": 65,
      "outputs": [
        {
          "name": "stderr",
          "text": "'S' 1\n'S?' 2\n'SF' 2\n'SFe' 3\n'SFeu' 4\n'SFeux' 5\n'SFeux6' 6\n'SFeux!' 6\n'SFeuxp' 6\n'SFeuxpf' 7\n'SFeuxpf]' 8\n'SFeuxpfa' 8\n'SFeuxpfa+' 9\n'SFeuxpfa|' 9\n'SFeuxpfa2' 9\n'SFeuxpfaN' 9\n'SFeuxpfaNR' 10\n'SFeuxpfaNR,' 11\n'SFeuxpfaNR,]' 12\n'SFeuxpfaNR,n' 12\n'SFeuxpfaNR,n%' 13\n'SFeuxpfaNR,nn' 13\n'SFeuxpfaNR,nnN' 14\n'SFeuxpfaNR,nnNn' 15\n'SFeuxpfaNR,nnNnv' 16\n'SFeuxpfaNR,nnNnvv' 17\n'SFeuxpfaNR,nnNnvvQ' 18\n'SFeuxpfaNR,nnNnvvQ/' 19\n'SFeuxpfaNR,nnNnvvQW' 19\n'SFeuxpfaNR,nnNnvvQW(' 20\n'SFeuxpfaNR,nnNnvvQWp' 20\n'SFeuxpfaNR,nnNnvvQWpY' 21\n'SFeuxpfaNR,nnNnvvQWpY^' 22\n'SFeuxpfaNR,nnNnvvQWpYT' 22\n'SFeuxpfaNR,nnNnvvQWpYTk' 23\n'SFeuxpfaNR,nnNnvvQWpYTk]' 24\n'SFeuxpfaNR,nnNnvvQWpYTkw' 24\n'SFeuxpfaNR,nnNnvvQWpYTkwV' 25\n'SFeuxpfaNR,nnNnvvQWpYTkwV4' 26\n'SFeuxpfaNR,nnNnvvQWpYTkwVh' 26\n'SFeuxpfaNR,nnNnvvQWpYTkwVh9' 27\n'SFeuxpfaNR,nnNnvvQWpYTkwVhH' 27\n'SFeuxpfaNR,nnNnvvQWpYTkwVhH2' 28\n'SFeuxpfaNR,nnNnvvQWpYTkwVhHi' 28\n'SFeuxpfaNR,nnNnvvQWpYTkwVhHi?' 29\n'SFeuxpfaNR,nnNnvvQWpYTkwVhHih' 29\n'SFeuxpfaNR,nnNnvvQWpYTkwVhHih:' 30\n'SFeuxpfaNR,nnNnvvQWpYTkwVhHihx' 30\n'SFeuxpfaNR,nnNnvvQWpYTkwVhHihx;' 31\n'SFeuxpfaNR,nnNnvvQWpYTkwVhHihxJ' 31\n'SFeuxpfaNR,nnNnvvQWpYTkwVhHihxJr' 32\n'SFeuxpfaNR,nnNnvvQWpYTkwVhHihxJr7' 33\n'SFeuxpfaNR,nnNnvvQWpYTkwVhHihxJrA' 33\n'SFeuxpfaNR,nnNnvvQWpYTkwVhHihxJrAX' 34\n'SFeuxpfaNR,nnNnvvQWpYTkwVhHihxJrAXm' 35\n'SFeuxpfaNR,nnNnvvQWpYTkwVhHihxJrAXmR' 36\n'SFeuxpfaNR,nnNnvvQWpYTkwVhHihxJrAXmRd' 37\n'SFeuxpfaNR,nnNnvvQWpYTkwVhHihxJrAXmRd,' 38\n'SFeuxpfaNR,nnNnvvQWpYTkwVhHihxJrAXmRd7' 38\n'SFeuxpfaNR,nnNnvvQWpYTkwVhHihxJrAXmRd{' 38\n'SFeuxpfaNR,nnNnvvQWpYTkwVhHihxJrAXmRd*' 38\n'SFeuxpfaNR,nnNnvvQWpYTkwVhHihxJrAXmRdP' 38\n'SFeuxpfaNR,nnNnvvQWpYTkwVhHihxJrAXmRdPV' 39\n'SFeuxpfaNR,nnNnvvQWpYTkwVhHihxJrAXmRdPVl' 40\n'SFeuxpfaNR,nnNnvvQWpYTkwVhHihxJrAXmRdPVlp' 41\n'SFeuxpfaNR,nnNnvvQWpYTkwVhHihxJrAXmRdPVlp!' 42\n",
          "output_type": "stream"
        },
        {
          "execution_count": 65,
          "output_type": "execute_result",
          "data": {
            "text/plain": "'SFeuxpfaNR,nnNnvvQWpYTkwVhHihxJrAXmRdPVlp!'"
          },
          "metadata": {}
        }
      ]
    },
    {
      "cell_type": "markdown",
      "source": "### IP Address",
      "metadata": {
        "tags": []
      }
    },
    {
      "cell_type": "markdown",
      "source": "With IP address, we limit to ipv4",
      "metadata": {}
    },
    {
      "cell_type": "code",
      "source": "tests=\"\"\"#\n127.0.0.1                       # The \"localhost\" IPv4 address\n127.0.0.1:80                    # The \"localhost\" IPv4 address, with a specified port (80)\n192.168.0.1                     # private\n256.0.0.0                       # invalid, octet > 255 (currently not detected)\n\"\"\"\n\ndef join(args):\n    args[0]=\"\".join(args)\n    del args[1:]\n\ndef replace(val):\n    def lambda_replace(args):\n        args[0]=val\n        del args[1:]\n    return lambda_replace\n \ndef atoi(args): args[0]=int(args[0])\ndef itohex2(args): args[0]=\"%02x\"%args[0]\n \ndef hextoi(args): args[0]=int(args[0], 16)\ndef itohex4(args): args[0]=\"%04x\"%args[0]\n \ndef assert_in_range(lwb, upb):\n    def range_check(args):\n        return # turn range checking off\n        if args[0] < lwb:\n            raise ValueError(\"value %d < %d\"%(args[0], lwb))\n        if args[0] > upb:\n            raise ValueError(\"value %d > %d\"%(args[0], upb))\n    return range_check\n \ndot = Literal(\".\").suppress()(\"dot\"); colon = Literal(\":\").suppress()(\"colon\")\noctet = Word(nums).setParseAction(atoi,assert_in_range(0,255),itohex2)(\"octet\");\n \nport = Word(nums).setParseAction(atoi,assert_in_range(0,256*256-1))(\"port\")\nipv4 = (octet + (dot+octet)*3)(\"addr\")\nipv4.setParseAction(join) #,hextoi)\n \nipv4_port = ipv4+colon.suppress()+port\n \nip_fmt = (\n           (ipv4_port|ipv4)(\"ipv4\")\n         ) + LineEnd()\n",
      "metadata": {
        "trusted": true
      },
      "execution_count": 66,
      "outputs": []
    },
    {
      "cell_type": "code",
      "source": "def conforming_ipaddress(s):\n    return conforming_pyparse(ip_fmt, s)",
      "metadata": {
        "trusted": true
      },
      "execution_count": 67,
      "outputs": []
    },
    {
      "cell_type": "code",
      "source": "generate(conforming_ipaddress)",
      "metadata": {
        "trusted": true
      },
      "execution_count": 68,
      "outputs": [
        {
          "name": "stderr",
          "text": "'q' 1\n'A' 1\n']' 1\n'z' 1\n'W' 1\n'}' 1\n'R' 1\n':' 1\n'c' 1\n'_' 1\n'f' 1\n'T' 1\n'D' 1\n'u' 1\n'e' 1\n'a' 1\n'j' 1\n'!' 1\n'I' 1\n'b' 1\n'|' 1\n'M' 1\n'/' 1\n')' 1\n'#' 1\n'1' 1\n'1^' 2\n'1~' 2\n'1a' 2\n'1`' 2\n'1)' 2\n'1c' 2\n'1w' 2\n'1?' 2\n'1+' 2\n'1H' 2\n'1n' 2\n'1*' 2\n'1y' 2\n'1<' 2\n'1t' 2\n'1Y' 2\n'1o' 2\n'1u' 2\n'14' 2\n'14U' 3\n'14N' 3\n'14,' 3\n'14A' 3\n'14 ' 3\n'14 i' 4\n'14 K' 4\n'14 c' 4\n'14 %' 4\n'14 =' 4\n'14 o' 4\n'14 A' 4\n'14 L' 4\n'14 @' 4\n'14 l' 4\n'14 W' 4\n'14 >' 4\n'14 ,' 4\n'14 M' 4\n'14 +' 4\n'14 f' 4\n'14 J' 4\n'14 C' 4\n'14 g' 4\n'14 h' 4\n'14 .' 4\n'14 .@' 5\n'14 .-' 5\n'14 .$' 5\n'14 .a' 5\n'14 .f' 5\n'14 .g' 5\n'14 .4' 5\n'14 .4&' 6\n\"14 .4'\" 6\n'14 .4<' 6\n'14 .4]' 6\n'14 .4 ' 6\n'14 .4 &' 7\n'14 .4 %' 7\n'14 .4 {' 7\n'14 .4 J' 7\n'14 .4 K' 7\n'14 .4 5' 7\n'14 .4 !' 7\n'14 .4 h' 7\n'14 .4 u' 7\n'14 .4 .' 7\n'14 .4 .7' 8\n'14 .4 .7Y' 9\n'14 .4 .7e' 9\n'14 .4 .7V' 9\n'14 .4 .7p' 9\n'14 .4 .7{' 9\n'14 .4 .74' 9\n'14 .4 .74T' 10\n'14 .4 .74!' 10\n'14 .4 .74#' 10\n'14 .4 .74c' 10\n'14 .4 .74n' 10\n'14 .4 .74P' 10\n'14 .4 .745' 10\n'14 .4 .745(' 11\n'14 .4 .745<' 11\n'14 .4 .745 ' 11\n'14 .4 .745 +' 12\n'14 .4 .745 M' 12\n'14 .4 .745 u' 12\n'14 .4 .745 $' 12\n'14 .4 .745 g' 12\n'14 .4 .745 R' 12\n'14 .4 .745 V' 12\n'14 .4 .745 0' 12\n'14 .4 .745 j' 12\n'14 .4 .745 =' 12\n'14 .4 .745 Z' 12\n'14 .4 .745 i' 12\n'14 .4 .745 K' 12\n'14 .4 .745 S' 12\n'14 .4 .745 v' 12\n'14 .4 .745 P' 12\n'14 .4 .745 l' 12\n'14 .4 .745 w' 12\n'14 .4 .745 f' 12\n'14 .4 .745 O' 12\n'14 .4 .745 s' 12\n'14 .4 .745 3' 12\n'14 .4 .745 |' 12\n'14 .4 .745 \"' 12\n'14 .4 .745 h' 12\n'14 .4 .745 U' 12\n'14 .4 .745 5' 12\n'14 .4 .745  ' 12\n'14 .4 .745  /' 13\n'14 .4 .745  6' 13\n'14 .4 .745  L' 13\n'14 .4 .745  2' 13\n'14 .4 .745  @' 13\n'14 .4 .745  W' 13\n'14 .4 .745  z' 13\n'14 .4 .745  Z' 13\n'14 .4 .745  d' 13\n'14 .4 .745  c' 13\n'14 .4 .745  7' 13\n'14 .4 .745  ]' 13\n'14 .4 .745   ' 13\n'14 .4 .745   [' 14\n'14 .4 .745   %' 14\n'14 .4 .745   $' 14\n'14 .4 .745   J' 14\n'14 .4 .745   f' 14\n'14 .4 .745   q' 14\n'14 .4 .745   g' 14\n'14 .4 .745   y' 14\n'14 .4 .745   p' 14\n'14 .4 .745   _' 14\n'14 .4 .745   S' 14\n'14 .4 .745   (' 14\n'14 .4 .745   9' 14\n'14 .4 .745   P' 14\n'14 .4 .745   c' 14\n'14 .4 .745   7' 14\n'14 .4 .745   )' 14\n'14 .4 .745   D' 14\n'14 .4 .745   1' 14\n'14 .4 .745   T' 14\n'14 .4 .745   E' 14\n'14 .4 .745   ?' 14\n'14 .4 .745   O' 14\n'14 .4 .745   ^' 14\n'14 .4 .745   4' 14\n'14 .4 .745   @' 14\n'14 .4 .745   i' 14\n'14 .4 .745   F' 14\n'14 .4 .745   \"' 14\n'14 .4 .745   n' 14\n'14 .4 .745   l' 14\n'14 .4 .745   j' 14\n'14 .4 .745   +' 14\n'14 .4 .745   *' 14\n'14 .4 .745   /' 14\n'14 .4 .745   .' 14\n'14 .4 .745   .<' 15\n'14 .4 .745   .R' 15\n'14 .4 .745   .]' 15\n'14 .4 .745   .i' 15\n'14 .4 .745   .S' 15\n'14 .4 .745   .g' 15\n'14 .4 .745   .1' 15\n",
          "output_type": "stream"
        },
        {
          "execution_count": 68,
          "output_type": "execute_result",
          "data": {
            "text/plain": "'14 .4 .745   .1'"
          },
          "metadata": {}
        }
      ]
    },
    {
      "cell_type": "markdown",
      "source": "### SSN",
      "metadata": {}
    },
    {
      "cell_type": "code",
      "source": "dash = '-'\n\nssn_parser = Combine(\n  Word(nums, exact=3)\n  + dash\n  + Word(nums, exact=2)\n  + dash\n  + Word(nums, exact=4)\n)",
      "metadata": {
        "trusted": true
      },
      "execution_count": 69,
      "outputs": []
    },
    {
      "cell_type": "code",
      "source": "def conforming_ssn(s):\n    return conforming_pyparse(ssn_parser, s)",
      "metadata": {
        "trusted": true
      },
      "execution_count": 70,
      "outputs": []
    },
    {
      "cell_type": "code",
      "source": "generate(conforming_ssn)",
      "metadata": {
        "trusted": true
      },
      "execution_count": 71,
      "outputs": [
        {
          "name": "stderr",
          "text": "';' 1\n'3' 1\n'3C' 2\n'3=' 2\n'3A' 2\n'3o' 2\n'3h' 2\n'3!' 2\n'3N' 2\n'3$' 2\n'3Y' 2\n'3.' 2\n'3v' 2\n'3b' 2\n'3s' 2\n'3k' 2\n'3*' 2\n'3n' 2\n'3E' 2\n'3Z' 2\n'38' 2\n'38O' 3\n'38p' 3\n'38g' 3\n'38_' 3\n'389' 3\n'389 ' 4\n'389_' 4\n'389J' 4\n'389>' 4\n'389$' 4\n'389V' 4\n'389-' 4\n'389-&' 5\n'389-I' 5\n'389- ' 5\n'389-f' 5\n'389-l' 5\n'389-g' 5\n'389-)' 5\n'389-,' 5\n'389-(' 5\n'389-K' 5\n'389-o' 5\n'389->' 5\n'389-O' 5\n'389-u' 5\n'389-R' 5\n'389-x' 5\n'389-5' 5\n'389-5y' 6\n'389-59' 6\n'389-59y' 7\n'389-59[' 7\n'389-59*' 7\n'389-597' 7\n'389-59V' 7\n'389-59X' 7\n'389-599' 7\n'389-59^' 7\n'389-59\"' 7\n'389-59.' 7\n'389-59 ' 7\n'389-59c' 7\n'389-59n' 7\n'389-59R' 7\n'389-59}' 7\n'389-59u' 7\n\"389-59'\" 7\n'389-59/' 7\n'389-59@' 7\n'389-59k' 7\n'389-592' 7\n'389-59F' 7\n'389-59!' 7\n'389-594' 7\n'389-59s' 7\n'389-59A' 7\n'389-596' 7\n'389-59>' 7\n'389-59+' 7\n'389-59C' 7\n'389-59-' 7\n'389-59-U' 8\n'389-59-f' 8\n'389-59-g' 8\n'389-59-u' 8\n'389-59->' 8\n'389-59-7' 8\n'389-59-76' 9\n'389-59-76u' 10\n'389-59-76$' 10\n'389-59-76=' 10\n'389-59-76Y' 10\n'389-59-76D' 10\n'389-59-76*' 10\n'389-59-76r' 10\n'389-59-76j' 10\n'389-59-76&' 10\n'389-59-767' 10\n'389-59-767M' 11\n'389-59-767e' 11\n'389-59-767=' 11\n'389-59-767)' 11\n'389-59-767I' 11\n'389-59-767V' 11\n'389-59-767/' 11\n'389-59-767t' 11\n'389-59-767 ' 11\n'389-59-767w' 11\n'389-59-767R' 11\n'389-59-767f' 11\n'389-59-767[' 11\n'389-59-767X' 11\n'389-59-767g' 11\n'389-59-767i' 11\n'389-59-767k' 11\n'389-59-767E' 11\n'389-59-767\"' 11\n'389-59-7670' 11\n",
          "output_type": "stream"
        },
        {
          "execution_count": 71,
          "output_type": "execute_result",
          "data": {
            "text/plain": "'389-59-7670'"
          },
          "metadata": {}
        }
      ]
    },
    {
      "cell_type": "markdown",
      "source": "### BNF",
      "metadata": {}
    },
    {
      "cell_type": "code",
      "source": "import math\nimport operator\n\nexprStack = []\n\n\ndef push_first(toks):\n    exprStack.append(toks[0])\n\n\ndef push_unary_minus(toks):\n    for t in toks:\n        if t == \"-\":\n            exprStack.append(\"unary -\")\n        else:\n            break\n\n\nbnf = None\n\n\ndef BNF():\n    \"\"\"\n    expop   :: '^'\n    multop  :: '*' | '/'\n    addop   :: '+' | '-'\n    integer :: ['+' | '-'] '0'..'9'+\n    atom    :: PI | E | real | fn '(' expr ')' | '(' expr ')'\n    factor  :: atom [ expop factor ]*\n    term    :: factor [ multop factor ]*\n    expr    :: term [ addop term ]*\n    \"\"\"\n    global bnf\n    if not bnf:\n        # use CaselessKeyword for e and pi, to avoid accidentally matching\n        # functions that start with 'e' or 'pi' (such as 'exp'); Keyword\n        # and CaselessKeyword only match whole words\n        e = CaselessKeyword(\"E\")\n        pi = CaselessKeyword(\"PI\")\n        # fnumber = Combine(Word(\"+-\"+nums, nums) +\n        #                    Optional(\".\" + Optional(Word(nums))) +\n        #                    Optional(e + Word(\"+-\"+nums, nums)))\n        # or use provided pyparsing_common.number, but convert back to str:\n        # fnumber = ppc.number().addParseAction(lambda t: str(t[0]))\n        fnumber = Regex(r\"[+-]?\\d+(?:\\.\\d*)?(?:[eE][+-]?\\d+)?\")\n        ident = Word(alphas, alphanums + \"_$\")\n\n        plus, minus, mult, div = map(Literal, \"+-*/\")\n        lpar, rpar = map(Suppress, \"()\")\n        addop = plus | minus\n        multop = mult | div\n        expop = Literal(\"^\")\n\n        expr = Forward()\n        expr_list = delimitedList(Group(expr))\n        # add parse action that replaces the function identifier with a (name, number of args) tuple\n        def insert_fn_argcount_tuple(t):\n            fn = t.pop(0)\n            num_args = len(t[0])\n            t.insert(0, (fn, num_args))\n\n        fn_call = (ident + lpar - Group(expr_list) + rpar).setParseAction(\n            insert_fn_argcount_tuple\n        )\n        atom = (\n            addop[...]\n            + (\n                (fn_call | pi | e | fnumber | ident).setParseAction(push_first)\n                | Group(lpar + expr + rpar)\n            )\n        ).setParseAction(push_unary_minus)\n\n        # by defining exponentiation as \"atom [ ^ factor ]...\" instead of \"atom [ ^ atom ]...\", we get right-to-left\n        # exponents, instead of left-to-right that is, 2^3^2 = 2^(3^2), not (2^3)^2.\n        factor = Forward()\n        factor <<= atom + (expop + factor).setParseAction(push_first)[...]\n        term = factor + (multop + factor).setParseAction(push_first)[...]\n        expr <<= term + (addop + term).setParseAction(push_first)[...]\n        bnf = expr\n    return bnf\n",
      "metadata": {
        "trusted": true
      },
      "execution_count": 72,
      "outputs": []
    },
    {
      "cell_type": "code",
      "source": "def conforming_bnf(s):\n    return conforming_pyparse(BNF(), s)",
      "metadata": {
        "trusted": true
      },
      "execution_count": 73,
      "outputs": []
    },
    {
      "cell_type": "code",
      "source": "generate(conforming_bnf)",
      "metadata": {
        "trusted": true
      },
      "execution_count": 74,
      "outputs": [
        {
          "name": "stderr",
          "text": "'8' 1\n",
          "output_type": "stream"
        },
        {
          "execution_count": 74,
          "output_type": "execute_result",
          "data": {
            "text/plain": "'8'"
          },
          "metadata": {}
        }
      ]
    },
    {
      "cell_type": "markdown",
      "source": "### URL Parser",
      "metadata": {}
    },
    {
      "cell_type": "code",
      "source": "url_chars = alphanums + '-_.~%+'\n\nfragment  = Combine((Suppress('#') + Word(url_chars)))('fragment')\n\nscheme = oneOf(['http', 'https', 'ftp', 'file'])('scheme')\nhost = Combine(delimitedList(Word(url_chars), '.'))('host')\nport = Suppress(':') + Word(nums)('port')\nuser_info = (\n  Word(url_chars)('username')\n  + Suppress(':')\n  + Word(url_chars)('password')\n  + Suppress('@')\n)\n\nquery_pair = Group(Word(url_chars) + Suppress('=') + Word(url_chars))\nquery = Group(Suppress('?') + delimitedList(query_pair, '&'))('query')\n\npath = Combine(\n  Suppress('/')\n  + OneOrMore(~query + Word(url_chars + '/'))\n)('path')\n\nurl_parser = (\n  scheme\n  + Suppress('://')\n  + Optional(user_info)\n  + host\n  + Optional(port)\n  + Optional(path)\n  + Optional(query)\n  + Optional(fragment)\n)",
      "metadata": {
        "trusted": true
      },
      "execution_count": 75,
      "outputs": []
    },
    {
      "cell_type": "code",
      "source": "def conforming_urls(s):\n    return conforming_pyparse(url_parser, s)",
      "metadata": {
        "trusted": true
      },
      "execution_count": 76,
      "outputs": []
    },
    {
      "cell_type": "markdown",
      "source": "Pyparser is bad at correctly accounting for spaces.",
      "metadata": {}
    },
    {
      "cell_type": "code",
      "source": "try:\n    url_parser.parseString('http ://')\nexcept ParseException as e:\n    print(e.loc)\n    print(str(e))",
      "metadata": {
        "trusted": true
      },
      "execution_count": 77,
      "outputs": [
        {
          "name": "stdout",
          "text": "8\nExpected W:(%+--.0-9A-Z_a-z~), found end of text  (at char 8), (line:1, col:9)\n",
          "output_type": "stream"
        }
      ]
    },
    {
      "cell_type": "code",
      "source": "SET_OF_BYTES = {c for c in string.printable if c not in \"\\n\\t\\r\\x0b\\x0c\\\\ \"}",
      "metadata": {
        "trusted": true
      },
      "execution_count": 79,
      "outputs": []
    },
    {
      "cell_type": "code",
      "source": "(v := generate(conforming_urls, tokens={'http', 'https', 'ftp', 'file', '://'}))",
      "metadata": {
        "trusted": true
      },
      "execution_count": 80,
      "outputs": [
        {
          "name": "stderr",
          "text": "'!' 1\n'n' 1\n'k' 1\n'r' 1\n'G' 1\n'D' 1\n'Y' 1\n'$' 1\n'U' 1\n';' 1\n'file' 4\n'fileS' 5\n'fileQ' 5\n'filek' 5\n'file+' 5\n'fileY' 5\n'fileB' 5\n'fileI' 5\n'file`' 5\n'fileN' 5\n'file*' 5\n'filex' 5\n'file:' 5\n'filei' 5\n'file8' 5\n'file(' 5\n'fileo' 5\n'filef' 5\n'filez' 5\n'filej' 5\n'filea' 5\n'fileU' 5\n'filec' 5\n'file9' 5\n'fileK' 5\n'file6' 5\n'file[' 5\n'fileW' 5\n'file@' 5\n'filel' 5\n'filey' 5\n'file&' 5\n'fileF' 5\n'fileH' 5\n'filem' 5\n'fileD' 5\n'filen' 5\n'fileh' 5\n'filer' 5\n'files' 5\n'file1' 5\n'fileg' 5\n'filee' 5\n'fileE' 5\n'file?' 5\n'file://' 7\n'file://file' 11\n",
          "output_type": "stream"
        },
        {
          "execution_count": 80,
          "output_type": "execute_result",
          "data": {
            "text/plain": "'file://file'"
          },
          "metadata": {}
        }
      ]
    },
    {
      "cell_type": "code",
      "source": "(v1 := generate(conforming_urls, prev_bytes=v, tokens={'http', 'https', 'ftp', 'file', '://'}))",
      "metadata": {
        "trusted": true
      },
      "execution_count": 81,
      "outputs": [
        {
          "name": "stderr",
          "text": "'file://filey' 12\n",
          "output_type": "stream"
        },
        {
          "execution_count": 81,
          "output_type": "execute_result",
          "data": {
            "text/plain": "'file://filey'"
          },
          "metadata": {}
        }
      ]
    },
    {
      "cell_type": "code",
      "source": "(v2 := generate(conforming_urls,  prev_bytes=v1, tokens={'http', 'https', 'ftp', 'file', '://'}))",
      "metadata": {
        "trusted": true
      },
      "execution_count": 82,
      "outputs": [
        {
          "name": "stderr",
          "text": "'file://fileyhttp' 16\n",
          "output_type": "stream"
        },
        {
          "execution_count": 82,
          "output_type": "execute_result",
          "data": {
            "text/plain": "'file://fileyhttp'"
          },
          "metadata": {}
        }
      ]
    },
    {
      "cell_type": "markdown",
      "source": "## End",
      "metadata": {
        "jp-MarkdownHeadingCollapsed": true,
        "tags": []
      }
    }
  ]
}